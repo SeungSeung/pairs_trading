{
 "cells": [
  {
   "cell_type": "code",
   "execution_count": 1,
   "metadata": {},
   "outputs": [],
   "source": [
    "import pandas as pd \n",
    "import matplotlib.pyplot as plt\n",
    "import numpy as np\n",
    "from arch.unitroot import DFGLS\n",
    "import statsmodels.api as sm\n",
    "from statsmodels.tsa.stattools import adfuller\n",
    "from statsmodels.tsa.stattools import coint\n"
   ]
  },
  {
   "cell_type": "code",
   "execution_count": 2,
   "metadata": {},
   "outputs": [
    {
     "data": {
      "text/html": [
       "<div>\n",
       "<style scoped>\n",
       "    .dataframe tbody tr th:only-of-type {\n",
       "        vertical-align: middle;\n",
       "    }\n",
       "\n",
       "    .dataframe tbody tr th {\n",
       "        vertical-align: top;\n",
       "    }\n",
       "\n",
       "    .dataframe thead th {\n",
       "        text-align: right;\n",
       "    }\n",
       "</style>\n",
       "<table border=\"1\" class=\"dataframe\">\n",
       "  <thead>\n",
       "    <tr style=\"text-align: right;\">\n",
       "      <th></th>\n",
       "      <th>KRW-BTC</th>\n",
       "      <th>KRW-ETH</th>\n",
       "      <th>KRW-NEO</th>\n",
       "      <th>KRW-MTL</th>\n",
       "      <th>KRW-LTC</th>\n",
       "      <th>KRW-XRP</th>\n",
       "      <th>KRW-ETC</th>\n",
       "      <th>KRW-OMG</th>\n",
       "      <th>KRW-SNT</th>\n",
       "      <th>KRW-WAVES</th>\n",
       "      <th>...</th>\n",
       "      <th>KRW-AXS</th>\n",
       "      <th>KRW-STX</th>\n",
       "      <th>KRW-XEC</th>\n",
       "      <th>KRW-SOL</th>\n",
       "      <th>KRW-MATIC</th>\n",
       "      <th>KRW-NU</th>\n",
       "      <th>KRW-AAVE</th>\n",
       "      <th>KRW-1INCH</th>\n",
       "      <th>KRW-ALGO</th>\n",
       "      <th>KRW-NEAR</th>\n",
       "    </tr>\n",
       "  </thead>\n",
       "  <tbody>\n",
       "    <tr>\n",
       "      <th>2017-09-25 09:00:00</th>\n",
       "      <td>4322000.0</td>\n",
       "      <td>325000.0</td>\n",
       "      <td>28600.0</td>\n",
       "      <td>9800.0</td>\n",
       "      <td>57300.0</td>\n",
       "      <td>203.0</td>\n",
       "      <td>12100.0</td>\n",
       "      <td>11050.0</td>\n",
       "      <td>25.3</td>\n",
       "      <td>4620.0</td>\n",
       "      <td>...</td>\n",
       "      <td>NaN</td>\n",
       "      <td>NaN</td>\n",
       "      <td>NaN</td>\n",
       "      <td>NaN</td>\n",
       "      <td>NaN</td>\n",
       "      <td>NaN</td>\n",
       "      <td>NaN</td>\n",
       "      <td>NaN</td>\n",
       "      <td>NaN</td>\n",
       "      <td>NaN</td>\n",
       "    </tr>\n",
       "    <tr>\n",
       "      <th>2017-09-26 09:00:00</th>\n",
       "      <td>4321000.0</td>\n",
       "      <td>321500.0</td>\n",
       "      <td>29300.0</td>\n",
       "      <td>9970.0</td>\n",
       "      <td>58000.0</td>\n",
       "      <td>211.0</td>\n",
       "      <td>12850.0</td>\n",
       "      <td>10850.0</td>\n",
       "      <td>30.2</td>\n",
       "      <td>5350.0</td>\n",
       "      <td>...</td>\n",
       "      <td>NaN</td>\n",
       "      <td>NaN</td>\n",
       "      <td>NaN</td>\n",
       "      <td>NaN</td>\n",
       "      <td>NaN</td>\n",
       "      <td>NaN</td>\n",
       "      <td>NaN</td>\n",
       "      <td>NaN</td>\n",
       "      <td>NaN</td>\n",
       "      <td>NaN</td>\n",
       "    </tr>\n",
       "    <tr>\n",
       "      <th>2017-09-27 09:00:00</th>\n",
       "      <td>4657000.0</td>\n",
       "      <td>342500.0</td>\n",
       "      <td>35200.0</td>\n",
       "      <td>10450.0</td>\n",
       "      <td>62800.0</td>\n",
       "      <td>232.0</td>\n",
       "      <td>14250.0</td>\n",
       "      <td>11500.0</td>\n",
       "      <td>31.9</td>\n",
       "      <td>5710.0</td>\n",
       "      <td>...</td>\n",
       "      <td>NaN</td>\n",
       "      <td>NaN</td>\n",
       "      <td>NaN</td>\n",
       "      <td>NaN</td>\n",
       "      <td>NaN</td>\n",
       "      <td>NaN</td>\n",
       "      <td>NaN</td>\n",
       "      <td>NaN</td>\n",
       "      <td>NaN</td>\n",
       "      <td>NaN</td>\n",
       "    </tr>\n",
       "    <tr>\n",
       "      <th>2017-09-28 09:00:00</th>\n",
       "      <td>4586000.0</td>\n",
       "      <td>332500.0</td>\n",
       "      <td>32500.0</td>\n",
       "      <td>9980.0</td>\n",
       "      <td>60100.0</td>\n",
       "      <td>222.0</td>\n",
       "      <td>14500.0</td>\n",
       "      <td>11450.0</td>\n",
       "      <td>31.4</td>\n",
       "      <td>5180.0</td>\n",
       "      <td>...</td>\n",
       "      <td>NaN</td>\n",
       "      <td>NaN</td>\n",
       "      <td>NaN</td>\n",
       "      <td>NaN</td>\n",
       "      <td>NaN</td>\n",
       "      <td>NaN</td>\n",
       "      <td>NaN</td>\n",
       "      <td>NaN</td>\n",
       "      <td>NaN</td>\n",
       "      <td>NaN</td>\n",
       "    </tr>\n",
       "    <tr>\n",
       "      <th>2017-09-29 09:00:00</th>\n",
       "      <td>4657000.0</td>\n",
       "      <td>327500.0</td>\n",
       "      <td>31850.0</td>\n",
       "      <td>9520.0</td>\n",
       "      <td>59100.0</td>\n",
       "      <td>220.0</td>\n",
       "      <td>14150.0</td>\n",
       "      <td>10850.0</td>\n",
       "      <td>30.7</td>\n",
       "      <td>5530.0</td>\n",
       "      <td>...</td>\n",
       "      <td>NaN</td>\n",
       "      <td>NaN</td>\n",
       "      <td>NaN</td>\n",
       "      <td>NaN</td>\n",
       "      <td>NaN</td>\n",
       "      <td>NaN</td>\n",
       "      <td>NaN</td>\n",
       "      <td>NaN</td>\n",
       "      <td>NaN</td>\n",
       "      <td>NaN</td>\n",
       "    </tr>\n",
       "    <tr>\n",
       "      <th>...</th>\n",
       "      <td>...</td>\n",
       "      <td>...</td>\n",
       "      <td>...</td>\n",
       "      <td>...</td>\n",
       "      <td>...</td>\n",
       "      <td>...</td>\n",
       "      <td>...</td>\n",
       "      <td>...</td>\n",
       "      <td>...</td>\n",
       "      <td>...</td>\n",
       "      <td>...</td>\n",
       "      <td>...</td>\n",
       "      <td>...</td>\n",
       "      <td>...</td>\n",
       "      <td>...</td>\n",
       "      <td>...</td>\n",
       "      <td>...</td>\n",
       "      <td>...</td>\n",
       "      <td>...</td>\n",
       "      <td>...</td>\n",
       "      <td>...</td>\n",
       "    </tr>\n",
       "    <tr>\n",
       "      <th>2021-12-26 09:00:00</th>\n",
       "      <td>61467000.0</td>\n",
       "      <td>4917000.0</td>\n",
       "      <td>35760.0</td>\n",
       "      <td>2770.0</td>\n",
       "      <td>188900.0</td>\n",
       "      <td>1120.0</td>\n",
       "      <td>45950.0</td>\n",
       "      <td>8260.0</td>\n",
       "      <td>89.9</td>\n",
       "      <td>19550.0</td>\n",
       "      <td>...</td>\n",
       "      <td>130100.0</td>\n",
       "      <td>2840.0</td>\n",
       "      <td>0.146</td>\n",
       "      <td>239100.0</td>\n",
       "      <td>3475.0</td>\n",
       "      <td>1000.0</td>\n",
       "      <td>324300.0</td>\n",
       "      <td>3340.0</td>\n",
       "      <td>1940.0</td>\n",
       "      <td>19600.0</td>\n",
       "    </tr>\n",
       "    <tr>\n",
       "      <th>2021-12-27 09:00:00</th>\n",
       "      <td>61508000.0</td>\n",
       "      <td>4896000.0</td>\n",
       "      <td>35810.0</td>\n",
       "      <td>2845.0</td>\n",
       "      <td>189000.0</td>\n",
       "      <td>1125.0</td>\n",
       "      <td>45710.0</td>\n",
       "      <td>8325.0</td>\n",
       "      <td>90.6</td>\n",
       "      <td>20000.0</td>\n",
       "      <td>...</td>\n",
       "      <td>130100.0</td>\n",
       "      <td>3170.0</td>\n",
       "      <td>0.145</td>\n",
       "      <td>237450.0</td>\n",
       "      <td>3315.0</td>\n",
       "      <td>992.0</td>\n",
       "      <td>335800.0</td>\n",
       "      <td>3405.0</td>\n",
       "      <td>2015.0</td>\n",
       "      <td>17950.0</td>\n",
       "    </tr>\n",
       "    <tr>\n",
       "      <th>2021-12-28 09:00:00</th>\n",
       "      <td>58274000.0</td>\n",
       "      <td>4650000.0</td>\n",
       "      <td>33150.0</td>\n",
       "      <td>2595.0</td>\n",
       "      <td>178750.0</td>\n",
       "      <td>1040.0</td>\n",
       "      <td>42820.0</td>\n",
       "      <td>7650.0</td>\n",
       "      <td>86.1</td>\n",
       "      <td>18150.0</td>\n",
       "      <td>...</td>\n",
       "      <td>122200.0</td>\n",
       "      <td>2790.0</td>\n",
       "      <td>0.134</td>\n",
       "      <td>217450.0</td>\n",
       "      <td>3055.0</td>\n",
       "      <td>911.0</td>\n",
       "      <td>309700.0</td>\n",
       "      <td>3115.0</td>\n",
       "      <td>1795.0</td>\n",
       "      <td>16350.0</td>\n",
       "    </tr>\n",
       "    <tr>\n",
       "      <th>2021-12-29 09:00:00</th>\n",
       "      <td>57089000.0</td>\n",
       "      <td>4456000.0</td>\n",
       "      <td>32010.0</td>\n",
       "      <td>2475.0</td>\n",
       "      <td>178300.0</td>\n",
       "      <td>1005.0</td>\n",
       "      <td>41890.0</td>\n",
       "      <td>7280.0</td>\n",
       "      <td>84.2</td>\n",
       "      <td>17560.0</td>\n",
       "      <td>...</td>\n",
       "      <td>115200.0</td>\n",
       "      <td>2620.0</td>\n",
       "      <td>0.132</td>\n",
       "      <td>209750.0</td>\n",
       "      <td>3045.0</td>\n",
       "      <td>905.0</td>\n",
       "      <td>289600.0</td>\n",
       "      <td>2975.0</td>\n",
       "      <td>1940.0</td>\n",
       "      <td>18330.0</td>\n",
       "    </tr>\n",
       "    <tr>\n",
       "      <th>2021-12-30 09:00:00</th>\n",
       "      <td>57200000.0</td>\n",
       "      <td>4506000.0</td>\n",
       "      <td>31740.0</td>\n",
       "      <td>2510.0</td>\n",
       "      <td>179700.0</td>\n",
       "      <td>1020.0</td>\n",
       "      <td>42050.0</td>\n",
       "      <td>7355.0</td>\n",
       "      <td>84.5</td>\n",
       "      <td>17830.0</td>\n",
       "      <td>...</td>\n",
       "      <td>115450.0</td>\n",
       "      <td>2670.0</td>\n",
       "      <td>0.133</td>\n",
       "      <td>209850.0</td>\n",
       "      <td>3105.0</td>\n",
       "      <td>920.0</td>\n",
       "      <td>319450.0</td>\n",
       "      <td>2995.0</td>\n",
       "      <td>2105.0</td>\n",
       "      <td>18780.0</td>\n",
       "    </tr>\n",
       "  </tbody>\n",
       "</table>\n",
       "<p>1558 rows × 109 columns</p>\n",
       "</div>"
      ],
      "text/plain": [
       "                        KRW-BTC    KRW-ETH  KRW-NEO  KRW-MTL   KRW-LTC  \\\n",
       "2017-09-25 09:00:00   4322000.0   325000.0  28600.0   9800.0   57300.0   \n",
       "2017-09-26 09:00:00   4321000.0   321500.0  29300.0   9970.0   58000.0   \n",
       "2017-09-27 09:00:00   4657000.0   342500.0  35200.0  10450.0   62800.0   \n",
       "2017-09-28 09:00:00   4586000.0   332500.0  32500.0   9980.0   60100.0   \n",
       "2017-09-29 09:00:00   4657000.0   327500.0  31850.0   9520.0   59100.0   \n",
       "...                         ...        ...      ...      ...       ...   \n",
       "2021-12-26 09:00:00  61467000.0  4917000.0  35760.0   2770.0  188900.0   \n",
       "2021-12-27 09:00:00  61508000.0  4896000.0  35810.0   2845.0  189000.0   \n",
       "2021-12-28 09:00:00  58274000.0  4650000.0  33150.0   2595.0  178750.0   \n",
       "2021-12-29 09:00:00  57089000.0  4456000.0  32010.0   2475.0  178300.0   \n",
       "2021-12-30 09:00:00  57200000.0  4506000.0  31740.0   2510.0  179700.0   \n",
       "\n",
       "                     KRW-XRP  KRW-ETC  KRW-OMG  KRW-SNT  KRW-WAVES  ...  \\\n",
       "2017-09-25 09:00:00    203.0  12100.0  11050.0     25.3     4620.0  ...   \n",
       "2017-09-26 09:00:00    211.0  12850.0  10850.0     30.2     5350.0  ...   \n",
       "2017-09-27 09:00:00    232.0  14250.0  11500.0     31.9     5710.0  ...   \n",
       "2017-09-28 09:00:00    222.0  14500.0  11450.0     31.4     5180.0  ...   \n",
       "2017-09-29 09:00:00    220.0  14150.0  10850.0     30.7     5530.0  ...   \n",
       "...                      ...      ...      ...      ...        ...  ...   \n",
       "2021-12-26 09:00:00   1120.0  45950.0   8260.0     89.9    19550.0  ...   \n",
       "2021-12-27 09:00:00   1125.0  45710.0   8325.0     90.6    20000.0  ...   \n",
       "2021-12-28 09:00:00   1040.0  42820.0   7650.0     86.1    18150.0  ...   \n",
       "2021-12-29 09:00:00   1005.0  41890.0   7280.0     84.2    17560.0  ...   \n",
       "2021-12-30 09:00:00   1020.0  42050.0   7355.0     84.5    17830.0  ...   \n",
       "\n",
       "                      KRW-AXS  KRW-STX  KRW-XEC   KRW-SOL  KRW-MATIC  KRW-NU  \\\n",
       "2017-09-25 09:00:00       NaN      NaN      NaN       NaN        NaN     NaN   \n",
       "2017-09-26 09:00:00       NaN      NaN      NaN       NaN        NaN     NaN   \n",
       "2017-09-27 09:00:00       NaN      NaN      NaN       NaN        NaN     NaN   \n",
       "2017-09-28 09:00:00       NaN      NaN      NaN       NaN        NaN     NaN   \n",
       "2017-09-29 09:00:00       NaN      NaN      NaN       NaN        NaN     NaN   \n",
       "...                       ...      ...      ...       ...        ...     ...   \n",
       "2021-12-26 09:00:00  130100.0   2840.0    0.146  239100.0     3475.0  1000.0   \n",
       "2021-12-27 09:00:00  130100.0   3170.0    0.145  237450.0     3315.0   992.0   \n",
       "2021-12-28 09:00:00  122200.0   2790.0    0.134  217450.0     3055.0   911.0   \n",
       "2021-12-29 09:00:00  115200.0   2620.0    0.132  209750.0     3045.0   905.0   \n",
       "2021-12-30 09:00:00  115450.0   2670.0    0.133  209850.0     3105.0   920.0   \n",
       "\n",
       "                     KRW-AAVE  KRW-1INCH  KRW-ALGO  KRW-NEAR  \n",
       "2017-09-25 09:00:00       NaN        NaN       NaN       NaN  \n",
       "2017-09-26 09:00:00       NaN        NaN       NaN       NaN  \n",
       "2017-09-27 09:00:00       NaN        NaN       NaN       NaN  \n",
       "2017-09-28 09:00:00       NaN        NaN       NaN       NaN  \n",
       "2017-09-29 09:00:00       NaN        NaN       NaN       NaN  \n",
       "...                       ...        ...       ...       ...  \n",
       "2021-12-26 09:00:00  324300.0     3340.0    1940.0   19600.0  \n",
       "2021-12-27 09:00:00  335800.0     3405.0    2015.0   17950.0  \n",
       "2021-12-28 09:00:00  309700.0     3115.0    1795.0   16350.0  \n",
       "2021-12-29 09:00:00  289600.0     2975.0    1940.0   18330.0  \n",
       "2021-12-30 09:00:00  319450.0     2995.0    2105.0   18780.0  \n",
       "\n",
       "[1558 rows x 109 columns]"
      ]
     },
     "execution_count": 2,
     "metadata": {},
     "output_type": "execute_result"
    }
   ],
   "source": [
    "df=pd.read_csv('price_panel_daily.csv',index_col=0)\n",
    "df"
   ]
  },
  {
   "cell_type": "code",
   "execution_count": 3,
   "metadata": {},
   "outputs": [],
   "source": [
    "def E_Gtest(y,x):\n",
    "    return coint(y,x,maxlag=12)[0]\n",
    "    "
   ]
  },
  {
   "cell_type": "code",
   "execution_count": 4,
   "metadata": {},
   "outputs": [],
   "source": [
    "def get_spread(y,x):\n",
    "    results=sm.OLS(y,x).fit()\n",
    "    spread=results.resid\n",
    "    spread=pd.Series(spread,name='spread')\n",
    "    return spread"
   ]
  },
  {
   "cell_type": "code",
   "execution_count": 5,
   "metadata": {},
   "outputs": [],
   "source": [
    "def adf_test(x,cutoff=0.01):\n",
    "    pvalue=adfuller(x)[1]\n",
    "    if pvalue<cutoff:\n",
    "        print('stationary')\n",
    "    else:\n",
    "        print('no')"
   ]
  },
  {
   "cell_type": "markdown",
   "metadata": {},
   "source": [
    "공적분 기간과 백테스팅 기간을 나눈다."
   ]
  },
  {
   "cell_type": "code",
   "execution_count": 6,
   "metadata": {},
   "outputs": [],
   "source": [
    "df1=df.iloc[0:900,0:2]\n",
    "df2=df.iloc[900:,0:2]\n",
    "df1.dropna(inplace=True)\n",
    "df2.dropna(inplace=True)\n",
    "df1=df1.astype(float)\n",
    "df2=df2.astype(float)"
   ]
  },
  {
   "cell_type": "markdown",
   "metadata": {},
   "source": [
    "비트코인과 이더리움의 가격이 stationary한지 검정해본다"
   ]
  },
  {
   "cell_type": "code",
   "execution_count": 7,
   "metadata": {},
   "outputs": [
    {
     "name": "stdout",
     "output_type": "stream",
     "text": [
      "no\n",
      "no\n"
     ]
    }
   ],
   "source": [
    "adf_test(df1['KRW-BTC'])\n",
    "adf_test(df1['KRW-ETH'])"
   ]
  },
  {
   "cell_type": "markdown",
   "metadata": {},
   "source": [
    "Engle and Granger의 1% 임계치는 -2.5899 인데 검청통계량 값은 -3.04598이므로 잔차가 I(0)라고 결론 지을 수 있다."
   ]
  },
  {
   "cell_type": "code",
   "execution_count": 8,
   "metadata": {},
   "outputs": [
    {
     "name": "stdout",
     "output_type": "stream",
     "text": [
      "-3.045981576063622\n"
     ]
    }
   ],
   "source": [
    "coint_result=E_Gtest(df1['KRW-BTC'],df1['KRW-ETH'])\n",
    "print(coint_result)"
   ]
  },
  {
   "cell_type": "code",
   "execution_count": 9,
   "metadata": {},
   "outputs": [
    {
     "name": "stdout",
     "output_type": "stream",
     "text": [
      "2020-03-13 09:00:00    4.512043e+06\n",
      "2020-03-14 09:00:00    4.274073e+06\n",
      "2020-03-15 09:00:00    4.395595e+06\n",
      "2020-03-16 09:00:00    4.160510e+06\n",
      "2020-03-17 09:00:00    4.440575e+06\n",
      "                           ...     \n",
      "2021-12-26 09:00:00   -1.616121e+07\n",
      "2021-12-27 09:00:00   -1.578867e+07\n",
      "2021-12-28 09:00:00   -1.513889e+07\n",
      "2021-12-29 09:00:00   -1.326108e+07\n",
      "2021-12-30 09:00:00   -1.393946e+07\n",
      "Name: spread, Length: 658, dtype: float64\n"
     ]
    }
   ],
   "source": [
    "spread=get_spread(df2['KRW-BTC'],df2['KRW-ETH'])\n",
    "print(spread)"
   ]
  },
  {
   "cell_type": "code",
   "execution_count": 10,
   "metadata": {},
   "outputs": [
    {
     "data": {
      "text/html": [
       "<div>\n",
       "<style scoped>\n",
       "    .dataframe tbody tr th:only-of-type {\n",
       "        vertical-align: middle;\n",
       "    }\n",
       "\n",
       "    .dataframe tbody tr th {\n",
       "        vertical-align: top;\n",
       "    }\n",
       "\n",
       "    .dataframe thead th {\n",
       "        text-align: right;\n",
       "    }\n",
       "</style>\n",
       "<table border=\"1\" class=\"dataframe\">\n",
       "  <thead>\n",
       "    <tr style=\"text-align: right;\">\n",
       "      <th></th>\n",
       "      <th>KRW-BTC</th>\n",
       "      <th>KRW-ETH</th>\n",
       "      <th>spread</th>\n",
       "    </tr>\n",
       "  </thead>\n",
       "  <tbody>\n",
       "    <tr>\n",
       "      <th>2020-03-13 09:00:00</th>\n",
       "      <td>7267000.0</td>\n",
       "      <td>174500.0</td>\n",
       "      <td>4.512043e+06</td>\n",
       "    </tr>\n",
       "    <tr>\n",
       "      <th>2020-03-14 09:00:00</th>\n",
       "      <td>6823000.0</td>\n",
       "      <td>161450.0</td>\n",
       "      <td>4.274073e+06</td>\n",
       "    </tr>\n",
       "    <tr>\n",
       "      <th>2020-03-15 09:00:00</th>\n",
       "      <td>6909000.0</td>\n",
       "      <td>159200.0</td>\n",
       "      <td>4.395595e+06</td>\n",
       "    </tr>\n",
       "    <tr>\n",
       "      <th>2020-03-16 09:00:00</th>\n",
       "      <td>6385000.0</td>\n",
       "      <td>140900.0</td>\n",
       "      <td>4.160510e+06</td>\n",
       "    </tr>\n",
       "    <tr>\n",
       "      <th>2020-03-17 09:00:00</th>\n",
       "      <td>6774000.0</td>\n",
       "      <td>147800.0</td>\n",
       "      <td>4.440575e+06</td>\n",
       "    </tr>\n",
       "    <tr>\n",
       "      <th>...</th>\n",
       "      <td>...</td>\n",
       "      <td>...</td>\n",
       "      <td>...</td>\n",
       "    </tr>\n",
       "    <tr>\n",
       "      <th>2021-12-26 09:00:00</th>\n",
       "      <td>61467000.0</td>\n",
       "      <td>4917000.0</td>\n",
       "      <td>-1.616121e+07</td>\n",
       "    </tr>\n",
       "    <tr>\n",
       "      <th>2021-12-27 09:00:00</th>\n",
       "      <td>61508000.0</td>\n",
       "      <td>4896000.0</td>\n",
       "      <td>-1.578867e+07</td>\n",
       "    </tr>\n",
       "    <tr>\n",
       "      <th>2021-12-28 09:00:00</th>\n",
       "      <td>58274000.0</td>\n",
       "      <td>4650000.0</td>\n",
       "      <td>-1.513889e+07</td>\n",
       "    </tr>\n",
       "    <tr>\n",
       "      <th>2021-12-29 09:00:00</th>\n",
       "      <td>57089000.0</td>\n",
       "      <td>4456000.0</td>\n",
       "      <td>-1.326108e+07</td>\n",
       "    </tr>\n",
       "    <tr>\n",
       "      <th>2021-12-30 09:00:00</th>\n",
       "      <td>57200000.0</td>\n",
       "      <td>4506000.0</td>\n",
       "      <td>-1.393946e+07</td>\n",
       "    </tr>\n",
       "  </tbody>\n",
       "</table>\n",
       "<p>658 rows × 3 columns</p>\n",
       "</div>"
      ],
      "text/plain": [
       "                        KRW-BTC    KRW-ETH        spread\n",
       "2020-03-13 09:00:00   7267000.0   174500.0  4.512043e+06\n",
       "2020-03-14 09:00:00   6823000.0   161450.0  4.274073e+06\n",
       "2020-03-15 09:00:00   6909000.0   159200.0  4.395595e+06\n",
       "2020-03-16 09:00:00   6385000.0   140900.0  4.160510e+06\n",
       "2020-03-17 09:00:00   6774000.0   147800.0  4.440575e+06\n",
       "...                         ...        ...           ...\n",
       "2021-12-26 09:00:00  61467000.0  4917000.0 -1.616121e+07\n",
       "2021-12-27 09:00:00  61508000.0  4896000.0 -1.578867e+07\n",
       "2021-12-28 09:00:00  58274000.0  4650000.0 -1.513889e+07\n",
       "2021-12-29 09:00:00  57089000.0  4456000.0 -1.326108e+07\n",
       "2021-12-30 09:00:00  57200000.0  4506000.0 -1.393946e+07\n",
       "\n",
       "[658 rows x 3 columns]"
      ]
     },
     "execution_count": 10,
     "metadata": {},
     "output_type": "execute_result"
    }
   ],
   "source": [
    "spread=pd.Series(spread,name='spread')\n",
    "df2=df2.join(spread)\n",
    "df2"
   ]
  },
  {
   "cell_type": "markdown",
   "metadata": {},
   "source": [
    "분석의 편의성을 위하여 잔차들을 scaling 해준다"
   ]
  },
  {
   "cell_type": "code",
   "execution_count": 11,
   "metadata": {},
   "outputs": [],
   "source": [
    "s=2"
   ]
  },
  {
   "cell_type": "code",
   "execution_count": 12,
   "metadata": {},
   "outputs": [],
   "source": [
    "df2['spread_n']=(df2['spread'].copy()-df2['spread'].mean())/df2['spread'].std()\n",
    "df2['total']=df2['KRW-BTC']+df2['KRW-ETH']"
   ]
  },
  {
   "cell_type": "code",
   "execution_count": 13,
   "metadata": {},
   "outputs": [
    {
     "name": "stdout",
     "output_type": "stream",
     "text": [
      "1.9999999999999996\n",
      "-1.9999999999999991\n"
     ]
    }
   ],
   "source": [
    "threshold1=df2['spread_n'].std()*s+df2['spread_n'].mean()\n",
    "threshold2=df2['spread_n'].std()*-s+df2['spread_n'].mean()\n",
    "print(threshold1)\n",
    "print(threshold2)"
   ]
  },
  {
   "cell_type": "markdown",
   "metadata": {},
   "source": [
    "spread >threshold1 이면 숏, spread < threshold2 이면 롱, spread =0 일 떄 청산이 된다고 하자"
   ]
  },
  {
   "cell_type": "code",
   "execution_count": 14,
   "metadata": {},
   "outputs": [],
   "source": [
    "df2['position']=np.where(df2['spread_n']>threshold1,-1,np.nan)\n",
    "df2['position']=np.where(df2['spread_n']<threshold2,1,df2['position'])\n",
    "df2['position']=np.where(df2['spread_n']*df2['spread_n'].shift(1)<0,0,df2['position'])\n",
    "df2['position']=df2['position'].ffill().fillna(0)\n"
   ]
  },
  {
   "cell_type": "code",
   "execution_count": 15,
   "metadata": {},
   "outputs": [
    {
     "name": "stderr",
     "output_type": "stream",
     "text": [
      "C:\\Users\\lsh\\anaconda3\\envs\\ml4t\\lib\\site-packages\\pandas\\core\\arraylike.py:358: RuntimeWarning: invalid value encountered in log\n",
      "  result = getattr(ufunc, method)(*inputs, **kwargs)\n"
     ]
    },
    {
     "data": {
      "text/plain": [
       " 0.0    538\n",
       "-1.0     71\n",
       " 1.0     31\n",
       "Name: position, dtype: int64"
      ]
     },
     "execution_count": 15,
     "metadata": {},
     "output_type": "execute_result"
    }
   ],
   "source": [
    "df2['f_return']=np.log(df2['KRW-BTC']/df2['KRW-BTC'].shift(1))\n",
    "df2['s_return']=np.log(df2['KRW-ETH']/df2['KRW-ETH'].shift(1))\n",
    "df2['spread_return']=np.log(df2['spread']/df2['spread'].shift(1))\n",
    "\n",
    "\n",
    "df2['t_return']=np.log(df2['total']/df2['total'].shift(1))\n",
    "df2['strategy']=(df2['spread_return'])*df2['position'].shift(1)\n",
    "df2.dropna(inplace=True)\n",
    "df2['position'].value_counts()\n"
   ]
  },
  {
   "cell_type": "code",
   "execution_count": 16,
   "metadata": {},
   "outputs": [
    {
     "name": "stdout",
     "output_type": "stream",
     "text": [
      "t_return    7.773794\n",
      "strategy    6.554065\n",
      "dtype: float64\n"
     ]
    },
    {
     "data": {
      "text/plain": [
       "<AxesSubplot:>"
      ]
     },
     "execution_count": 16,
     "metadata": {},
     "output_type": "execute_result"
    },
    {
     "data": {
      "image/png": "[encoded data removed]",
      "text/plain": [
       "<Figure size 1440x432 with 1 Axes>"
      ]
     },
     "metadata": {
      "needs_background": "light"
     },
     "output_type": "display_data"
    }
   ],
   "source": [
    "print(df2[['t_return','strategy']].sum().apply(np.exp))\n",
    "df2[['t_return','strategy']].cumsum().apply(np.exp).plot(figsize=(20,6))"
   ]
  },
  {
   "cell_type": "code",
   "execution_count": null,
   "metadata": {},
   "outputs": [],
   "source": []
  }
 ],
 "metadata": {
  "interpreter": {
   "hash": "dacff0a8f8f47c6522d5ff550c424e5fbd8dda333ce972f85363528c90c1c08c"
  },
  "kernelspec": {
   "display_name": "Python 3.8.10 ('ml4t')",
   "language": "python",
   "name": "python3"
  },
  "language_info": {
   "codemirror_mode": {
    "name": "ipython",
    "version": 3
   },
   "file_extension": ".py",
   "mimetype": "text/x-python",
   "name": "python",
   "nbconvert_exporter": "python",
   "pygments_lexer": "ipython3",
   "version": "3.8.10"
  },
  "orig_nbformat": 4
 },
 "nbformat": 4,
 "nbformat_minor": 2
}
